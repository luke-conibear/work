{
 "cells": [
  {
   "cell_type": "code",
   "execution_count": 4,
   "metadata": {
    "collapsed": false,
    "jupyter": {
     "outputs_hidden": false
    },
    "pycharm": {
     "name": "#%%\n"
    }
   },
   "outputs": [],
   "source": [
    "from pumautil.notification import ServiceInput\n",
    "from wafs import wafs\n",
    "import xarray as xr\n",
    "import numpy as np\n",
    "import sparse\n",
    "import matplotlib.pyplot as plt\n",
    "\n",
    "xr.set_options(display_expand_data=False)\n",
    "%matplotlib inline"
   ]
  },
  {
   "cell_type": "code",
   "execution_count": null,
   "metadata": {
    "collapsed": false,
    "jupyter": {
     "outputs_hidden": false
    },
    "pycharm": {
     "name": "#%%\n"
    }
   },
   "outputs": [],
   "source": [
    "metadata_config[\"runtime\"][\"infile_Wind_temp\"] = '../tests/test_data/ingress_met_model_WAF_2022_06_15_KWBC_00_Wind_temp_20220615_0000f06.grib2'\n",
    "metadata_config[\"runtime\"][\"infile_ice\"] = '../tests/test_data/ingress_met_model_WAF_2022_06_15_KWBC_00_ice_20220615_0000f06_ice.grib2'\n",
    "metadata_config[\"runtime\"][\"infile_turb\"] = '../tests/test_data/ingress_met_model_WAF_2022_06_15_KWBC_00_turb_20220615_0000f06_turb.grib2'"
   ]
  },
  {
   "cell_type": "code",
   "execution_count": null,
   "metadata": {
    "collapsed": false,
    "jupyter": {
     "outputs_hidden": false
    },
    "pycharm": {
     "is_executing": true,
     "name": "#%%\n"
    }
   },
   "outputs": [],
   "source": [
    "import importlib\n",
    "\n",
    "importlib.reload(wafs)"
   ]
  },
  {
   "cell_type": "code",
   "execution_count": 1,
   "metadata": {
    "collapsed": false,
    "jupyter": {
     "outputs_hidden": false
    },
    "pycharm": {
     "name": "#%%\n"
    }
   },
   "outputs": [],
   "source": [
    "# wafs.run(ServiceInput)"
   ]
  },
  {
   "cell_type": "code",
   "execution_count": null,
   "metadata": {
    "collapsed": false,
    "jupyter": {
     "outputs_hidden": false
    },
    "pycharm": {
     "is_executing": true,
     "name": "#%%\n"
    }
   },
   "outputs": [],
   "source": [
    "full_run_through_test_file = \"wafs/20220615T000000Z.nc\"\n",
    "ds_final = xr.open_dataset(full_run_through_test_file)\n",
    "ds_final"
   ]
  },
  {
   "cell_type": "code",
   "execution_count": null,
   "metadata": {
    "collapsed": false,
    "jupyter": {
     "outputs_hidden": false
    },
    "pycharm": {
     "is_executing": true,
     "name": "#%%\n"
    }
   },
   "outputs": [],
   "source": [
    "ds_test_grib = xr.open_dataset(\n",
    "    wafs.metadata_config[\"runtime\"][\"infile_wind\"],\n",
    "    engine=\"cfgrib\",\n",
    "    backend_kwargs={\"filter_by_keys\": {\"typeOfLevel\": \"isobaricInhPa\"}},\n",
    ")"
   ]
  },
  {
   "cell_type": "code",
   "execution_count": null,
   "metadata": {
    "collapsed": false,
    "jupyter": {
     "outputs_hidden": false
    },
    "pycharm": {
     "is_executing": true,
     "name": "#%%\n"
    }
   },
   "outputs": [],
   "source": [
    "ds_test_grib_regridded = wafs.regrid_ds(ds_test_grib)\n",
    "da_test_grib_temp_celcius = ds_test_grib_regridded[\"t\"] - 273.15\n",
    "da_final_temp_celcius = ds_final[\"air_temperature\"]"
   ]
  },
  {
   "cell_type": "code",
   "execution_count": null,
   "metadata": {
    "collapsed": false,
    "jupyter": {
     "outputs_hidden": false
    },
    "pycharm": {
     "is_executing": true,
     "name": "#%%\n"
    }
   },
   "outputs": [],
   "source": [
    "# 700 hpa = 10_000 feet\n",
    "(ds_test_grib.t.sel(isobaricInhPa=700) - 273.15).plot(vmin=-20, vmax=20)"
   ]
  },
  {
   "cell_type": "code",
   "execution_count": null,
   "metadata": {
    "collapsed": false,
    "jupyter": {
     "outputs_hidden": false
    },
    "pycharm": {
     "is_executing": true,
     "name": "#%%\n"
    }
   },
   "outputs": [],
   "source": [
    "da_test_grib_temp_celcius.sel(isobaricInhPa=700).plot(vmin=-20, vmax=20)"
   ]
  },
  {
   "cell_type": "code",
   "execution_count": null,
   "metadata": {
    "collapsed": false,
    "jupyter": {
     "outputs_hidden": false
    },
    "pycharm": {
     "is_executing": true,
     "name": "#%%\n"
    }
   },
   "outputs": [],
   "source": [
    "da_final_temp_celcius.isel(flight_altitude_wind_temp=2).plot(vmin=-20, vmax=20)"
   ]
  },
  {
   "cell_type": "code",
   "execution_count": null,
   "metadata": {
    "collapsed": false,
    "jupyter": {
     "outputs_hidden": false
    },
    "pycharm": {
     "is_executing": true,
     "name": "#%%\n"
    }
   },
   "outputs": [],
   "source": [
    "da_test_grib_temp_celcius"
   ]
  },
  {
   "cell_type": "code",
   "execution_count": null,
   "metadata": {
    "collapsed": false,
    "jupyter": {
     "outputs_hidden": false
    },
    "pycharm": {
     "is_executing": true,
     "name": "#%%\n"
    }
   },
   "outputs": [],
   "source": [
    "da_final_temp_celcius"
   ]
  },
  {
   "cell_type": "code",
   "execution_count": null,
   "metadata": {
    "collapsed": false,
    "jupyter": {
     "outputs_hidden": false
    },
    "pycharm": {
     "is_executing": true,
     "name": "#%%\n"
    }
   },
   "outputs": [],
   "source": [
    "# FL300 on https://www.aviationweather.gov/wafs\n",
    "# flight level 300 means 30,000 foot\n",
    "# corresponds to flight_altitude_ft=27\n",
    "# also in knots which are 1.94384 * the value in m/s\n",
    "# same colour bar scale as the website\n",
    "(\n",
    "    ds_final[\"wind_speed_mps\"].interp(\n",
    "        flight_altitude_wind_temp=30000, kwargs={\"fill_value\": \"extrapolate\"}\n",
    "    )\n",
    "    * 1.94384\n",
    ").plot(vmin=60, vmax=160)"
   ]
  },
  {
   "cell_type": "code",
   "execution_count": null,
   "metadata": {
    "collapsed": false,
    "jupyter": {
     "outputs_hidden": false
    },
    "pycharm": {
     "is_executing": true,
     "name": "#%%\n"
    }
   },
   "outputs": [],
   "source": [
    "# FL300 on https://www.aviationweather.gov/wafs\n",
    "# flight level 300 means 30,000 foot\n",
    "ds_final[\"wind_direction\"].interp(\n",
    "    flight_altitude_wind_temp=30000, kwargs={\"fill_value\": \"extrapolate\"}\n",
    ").plot(cmap=\"twilight\")"
   ]
  },
  {
   "cell_type": "code",
   "execution_count": null,
   "metadata": {
    "collapsed": false,
    "jupyter": {
     "outputs_hidden": false
    },
    "pycharm": {
     "is_executing": true,
     "name": "#%%\n"
    }
   },
   "outputs": [],
   "source": [
    "# FL390 on https://www.aviationweather.gov/wafs\n",
    "# flight level 390 means 39,000 foot\n",
    "# corresponds to flight_altitude_turb=-2\n",
    "ds_final[\"eddy_dissipation_parameter\"].isel(flight_altitude_turb=-2).plot()"
   ]
  },
  {
   "cell_type": "code",
   "execution_count": null,
   "metadata": {
    "collapsed": false,
    "jupyter": {
     "outputs_hidden": false
    },
    "pycharm": {
     "is_executing": true,
     "name": "#%%\n"
    }
   },
   "outputs": [],
   "source": [
    "# FL100 on https://www.aviationweather.gov/wafs\n",
    "# flight level 100 means 10,000 foot\n",
    "# corresponds to flight_altitude_ice=2\n",
    "ds_final[\"icing_severity_index\"].isel(flight_altitude_ice=1).plot(vmin=-1, vmax=4)"
   ]
  },
  {
   "cell_type": "code",
   "execution_count": null,
   "metadata": {
    "collapsed": false,
    "jupyter": {
     "outputs_hidden": false
    },
    "pycharm": {
     "is_executing": true,
     "name": "#%%\n"
    }
   },
   "outputs": [],
   "source": [
    "ds_final[\"air_temperature\"].interp(\n",
    "    flight_altitude_ft=49000, kwargs={\"fill_value\": \"extrapolate\"}\n",
    ").plot()"
   ]
  },
  {
   "cell_type": "code",
   "execution_count": null,
   "metadata": {
    "collapsed": false,
    "jupyter": {
     "outputs_hidden": false
    },
    "pycharm": {
     "name": "#%%\n"
    }
   },
   "outputs": [],
   "source": []
  },
  {
   "cell_type": "code",
   "execution_count": null,
   "metadata": {
    "collapsed": false,
    "jupyter": {
     "outputs_hidden": false
    },
    "pycharm": {
     "name": "#%%\n"
    }
   },
   "outputs": [],
   "source": [
    "from pumautil.notification import ServiceInput\n",
    "run(ServiceInput)"
   ]
  },
  {
   "cell_type": "code",
   "execution_count": null,
   "metadata": {},
   "outputs": [],
   "source": []
  },
  {
   "cell_type": "markdown",
   "metadata": {},
   "source": [
    "Old `test_run` function (may be useful for QA/QC)"
   ]
  },
  {
   "cell_type": "markdown",
   "metadata": {},
   "source": [
    "```python\n",
    "@pytest.mark.slow\n",
    "def test_run(\n",
    "    self,\n",
    "    ds_test_grib: xr.Dataset,\n",
    "    print_results: bool = True,\n",
    "    assert_criteria_to_thresholds: bool = False,\n",
    ") -> None:\n",
    "    \"\"\"Assert that interpolated values compare well to raw data.\n",
    "\n",
    "    Currently, only for air temperature.\n",
    "\n",
    "    The altitudes are matched between hPa and feet.\n",
    "    Approximate pairs are found between the original and final datasets.\n",
    "    The difference and ratio of values for each pair is calculated.\n",
    "    The differences and ratios are summed for when they are within a range criteria.\n",
    "\n",
    "    Parameters\n",
    "    ----------\n",
    "    ds_test_grib : xr.Dataset\n",
    "        the test raw data\n",
    "    print_results : bool, default True\n",
    "        if wish to print the final results for ratios and differences\n",
    "    assert_criteria_to_thresholds: bool, default False\n",
    "        if wish to assert criteria against specific thresholds, failing the test if not met\n",
    "    \"\"\"\n",
    "    wafs.run(\n",
    "        ServiceInput\n",
    "    )  # TODO: change this to notification, which is receive_notification()?\n",
    "    filename = \"20220615T000000Z\"\n",
    "    if os.path.exists(f\"{filename}.nc\"):\n",
    "        using_format = \"netcdf\"\n",
    "        filename_with_format = f\"{filename}.nc\"\n",
    "        ds_final = xr.open_dataset(filename_with_format)\n",
    "    else:\n",
    "        using_format = \"zarr\"\n",
    "        filename_with_format = f\"{filename}.zarr\"\n",
    "        ds_final = xr.open_zarr(filename_with_format)\n",
    "\n",
    "    ds_test_grib_regridded = wafs.regrid_ds(ds_test_grib)\n",
    "\n",
    "    da_test_grib_temp_celcius = ds_test_grib_regridded[\"t\"] - 273.15\n",
    "    da_final_temp_celcius = ds_final[\"air_temperature\"]\n",
    "\n",
    "    approximate_altitude_hpa_vs_feet = {}\n",
    "    for pressure_hpa in ds_test_grib.isobaricInhPa.values:\n",
    "        height_pressure_feet_rounded = round(\n",
    "            mpcalc.pressure_to_height_std(pressure_hpa * units(\"hPa\"))\n",
    "            .to(units(\"ft\"))\n",
    "            .magnitude,\n",
    "            -3,\n",
    "        )\n",
    "        approximate_altitude_hpa_vs_feet[str(int(pressure_hpa))] = str(\n",
    "            int(height_pressure_feet_rounded)\n",
    "        )\n",
    "\n",
    "    indices_hpa = {}\n",
    "    for pressure_hpa in ds_test_grib.isobaricInhPa.values:\n",
    "        index_hpa = np.argwhere(\n",
    "            ds_test_grib.isobaricInhPa.values == pressure_hpa\n",
    "        )\n",
    "        indices_hpa[str(int(pressure_hpa))] = str(int(index_hpa))\n",
    "\n",
    "    indices_feet = {}\n",
    "    for (\n",
    "        altitude_feet\n",
    "    ) in da_final_temp_celcius.flight_altitude_wind_temp.values:\n",
    "        index_feet = np.argwhere(\n",
    "            da_final_temp_celcius.flight_altitude_wind_temp.values\n",
    "            == altitude_feet\n",
    "        )\n",
    "        indices_feet[str(int(altitude_feet))] = str(int(index_feet))\n",
    "\n",
    "    ratios = [round(ratio, 1) for ratio in np.linspace(0.1, 0.5, 5)]\n",
    "    percentages_of_ratios_within = {str(ratio): [] for ratio in ratios}\n",
    "    diffs = [int(diff) for diff in np.linspace(1, 5, 5)]\n",
    "    percentages_of_diffs_within = {str(diff): [] for diff in diffs}\n",
    "\n",
    "    for (\n",
    "        altitude_hpa,\n",
    "        altitude_feet,\n",
    "    ) in approximate_altitude_hpa_vs_feet.items():\n",
    "        if (\n",
    "            float(altitude_feet) < 36089\n",
    "        ):  # the barometric conversion formula only holds for this\n",
    "            index_hpa = int(indices_hpa[altitude_hpa])\n",
    "            index_feet = int(indices_feet[altitude_feet])\n",
    "\n",
    "            diff_temp = da_test_grib_temp_celcius.isel(\n",
    "                isobaricInhPa=index_hpa\n",
    "            ) - da_final_temp_celcius.isel(\n",
    "                flight_altitude_wind_temp=index_feet\n",
    "            )\n",
    "            ratio_temp = da_test_grib_temp_celcius.isel(\n",
    "                isobaricInhPa=index_hpa\n",
    "            ) / da_final_temp_celcius.isel(\n",
    "                flight_altitude_wind_temp=index_feet\n",
    "            )\n",
    "\n",
    "            for ratio in ratios:\n",
    "                ratio_temp_within = ratio_temp.where(\n",
    "                    cond=np.abs(ratio_temp) > (1.0 - ratio)\n",
    "                ).where(cond=np.abs(ratio_temp) < (1.0 + ratio))\n",
    "\n",
    "                percentage_of_values_within = 1 - (\n",
    "                    ratio_temp_within.isnull().sum().values\n",
    "                    / (\n",
    "                        ratio_temp_within.lon.shape[0]\n",
    "                        * ratio_temp_within.lat.shape[0]\n",
    "                    )\n",
    "                )\n",
    "\n",
    "                percentages_of_ratios_within[str(ratio)].append(\n",
    "                    percentage_of_values_within\n",
    "                )\n",
    "\n",
    "            for diff in diffs:\n",
    "                diff_temp_within = diff_temp.where(\n",
    "                    cond=np.abs(diff_temp) < diff\n",
    "                )\n",
    "\n",
    "                percentage_of_diffs_within = 1 - (\n",
    "                    diff_temp_within.isnull().sum().values\n",
    "                    / (\n",
    "                        diff_temp_within.lon.shape[0]\n",
    "                        * diff_temp_within.lat.shape[0]\n",
    "                    )\n",
    "                )\n",
    "\n",
    "                percentages_of_diffs_within[str(diff)].append(\n",
    "                    percentage_of_diffs_within\n",
    "                )\n",
    "\n",
    "    if print_results:\n",
    "        for ratio, values in percentages_of_ratios_within.items():\n",
    "            print(\n",
    "                f\"Percentage of ratios within {100 * float(ratio):0.0f}%: {100 * np.mean(values):0.0f}%\"\n",
    "            )\n",
    "\n",
    "        for diff, values in percentages_of_diffs_within.items():\n",
    "            print(\n",
    "                f\"Percentage of diffs within {float(diff):0.1f} degrees C: {100 * np.mean(values):0.0f}%\"\n",
    "            )\n",
    "\n",
    "    if assert_criteria_to_thresholds:\n",
    "        assert np.mean(percentages_of_ratios_within[\"0.1\"]) > 0.6\n",
    "        assert np.mean(percentages_of_ratios_within[\"0.2\"]) > 0.85\n",
    "        assert np.mean(percentages_of_ratios_within[\"0.3\"]) > 0.9\n",
    "        assert np.mean(percentages_of_ratios_within[\"0.4\"]) > 0.9\n",
    "        assert np.mean(percentages_of_ratios_within[\"0.5\"]) > 0.95\n",
    "\n",
    "        assert np.mean(percentages_of_diffs_within[\"1\"]) > 0.4\n",
    "        assert np.mean(percentages_of_diffs_within[\"2\"]) > 0.6\n",
    "        assert np.mean(percentages_of_diffs_within[\"3\"]) > 0.7\n",
    "        assert np.mean(percentages_of_diffs_within[\"4\"]) > 0.8\n",
    "        assert np.mean(percentages_of_diffs_within[\"5\"]) > 0.9\n",
    "\n",
    "    if using_format == \"netcdf\":\n",
    "        os.remove(filename_with_format)\n",
    "    elif using_format == \"zarr\":\n",
    "        shutil.rmtree(filename_with_format)\n",
    "```"
   ]
  },
  {
   "cell_type": "code",
   "execution_count": null,
   "metadata": {},
   "outputs": [],
   "source": []
  }
 ],
 "metadata": {
  "kernelspec": {
   "display_name": "Python 3 (ipykernel)",
   "language": "python",
   "name": "python3"
  },
  "language_info": {
   "codemirror_mode": {
    "name": "ipython",
    "version": 3
   },
   "file_extension": ".py",
   "mimetype": "text/x-python",
   "name": "python",
   "nbconvert_exporter": "python",
   "pygments_lexer": "ipython3",
   "version": "3.9.13"
  }
 },
 "nbformat": 4,
 "nbformat_minor": 4
}
